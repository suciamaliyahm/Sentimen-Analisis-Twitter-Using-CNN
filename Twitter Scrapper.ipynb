{
 "cells": [
  {
   "cell_type": "code",
   "execution_count": 21,
   "metadata": {},
   "outputs": [],
   "source": [
    "import snscrape.modules.twitter as sntwitter\n",
    "import pandas as pd"
   ]
  },
  {
   "cell_type": "code",
   "execution_count": 22,
   "metadata": {},
   "outputs": [
    {
     "name": "stderr",
     "output_type": "stream",
     "text": [
      "C:\\Users\\LENOVO\\AppData\\Local\\Temp/ipykernel_27140/1639970249.py:8: FutureWarning: username is deprecated, use user.username instead\n",
      "  savedTweet.append([tweet.date, tweet.username, tweet.content])\n"
     ]
    }
   ],
   "source": [
    "savedTweet = []\n",
    "tweetCount = 10000\n",
    "query = '(\"merdeka belajar\" OR #merdekabelajar) -filter:replies'\n",
    "\n",
    "for i,tweet in enumerate(sntwitter.TwitterSearchScraper(query + 'since:2021-01-01 lang:id').get_items()):\n",
    "    if i > tweetCount - 1:\n",
    "        break\n",
    "    savedTweet.append([tweet.date, tweet.username, tweet.content])"
   ]
  },
  {
   "cell_type": "code",
   "execution_count": 23,
   "metadata": {},
   "outputs": [
    {
     "data": {
      "text/html": [
       "<div>\n",
       "<style scoped>\n",
       "    .dataframe tbody tr th:only-of-type {\n",
       "        vertical-align: middle;\n",
       "    }\n",
       "\n",
       "    .dataframe tbody tr th {\n",
       "        vertical-align: top;\n",
       "    }\n",
       "\n",
       "    .dataframe thead th {\n",
       "        text-align: right;\n",
       "    }\n",
       "</style>\n",
       "<table border=\"1\" class=\"dataframe\">\n",
       "  <thead>\n",
       "    <tr style=\"text-align: right;\">\n",
       "      <th></th>\n",
       "      <th>0</th>\n",
       "      <th>1</th>\n",
       "      <th>2</th>\n",
       "    </tr>\n",
       "  </thead>\n",
       "  <tbody>\n",
       "    <tr>\n",
       "      <th>0</th>\n",
       "      <td>2022-01-18</td>\n",
       "      <td>Haidar_Bagir</td>\n",
       "      <td>Tulisan saya: \"Jangan Overrate! Sekolah Hanyal...</td>\n",
       "    </tr>\n",
       "    <tr>\n",
       "      <th>1</th>\n",
       "      <td>2022-01-18</td>\n",
       "      <td>fe_ubb</td>\n",
       "      <td>Selamat kepada Jurusan Manajemen Universitas B...</td>\n",
       "    </tr>\n",
       "    <tr>\n",
       "      <th>2</th>\n",
       "      <td>2022-01-18</td>\n",
       "      <td>KemahasiswaanUI</td>\n",
       "      <td>Teman – teman mahasiswa, yuk ikutan dan cari t...</td>\n",
       "    </tr>\n",
       "    <tr>\n",
       "      <th>3</th>\n",
       "      <td>2022-01-18</td>\n",
       "      <td>Kemdikbud_RI</td>\n",
       "      <td>Yuk, cari tahu istilah lainnya dalam bahasa In...</td>\n",
       "    </tr>\n",
       "    <tr>\n",
       "      <th>4</th>\n",
       "      <td>2022-01-18</td>\n",
       "      <td>Kemdikbud_RI</td>\n",
       "      <td>#SahabatDikbud, dalam satu hari terkadang kita...</td>\n",
       "    </tr>\n",
       "    <tr>\n",
       "      <th>...</th>\n",
       "      <td>...</td>\n",
       "      <td>...</td>\n",
       "      <td>...</td>\n",
       "    </tr>\n",
       "    <tr>\n",
       "      <th>9995</th>\n",
       "      <td>2021-05-02</td>\n",
       "      <td>LPDBKUMKM</td>\n",
       "      <td>Selamat Hari Pendidikan Nasional!\\n\\nSejak pan...</td>\n",
       "    </tr>\n",
       "    <tr>\n",
       "      <th>9996</th>\n",
       "      <td>2021-05-02</td>\n",
       "      <td>zenastri</td>\n",
       "      <td>Selamat Hari Pendidikan Nasional. Serentak ber...</td>\n",
       "    </tr>\n",
       "    <tr>\n",
       "      <th>9997</th>\n",
       "      <td>2021-05-02</td>\n",
       "      <td>newPENAWANGAN</td>\n",
       "      <td>Kepolisian Negara Republik Indonesia mengucapk...</td>\n",
       "    </tr>\n",
       "    <tr>\n",
       "      <th>9998</th>\n",
       "      <td>2021-05-02</td>\n",
       "      <td>Bakulgodong1</td>\n",
       "      <td>@jprstyo__ @GodD4mn1t @WagimanDeep212_ @Mend0a...</td>\n",
       "    </tr>\n",
       "    <tr>\n",
       "      <th>9999</th>\n",
       "      <td>2021-05-02</td>\n",
       "      <td>WijayaMataram</td>\n",
       "      <td>merdeka belajar.\\ndari oleh untuk desa. https:...</td>\n",
       "    </tr>\n",
       "  </tbody>\n",
       "</table>\n",
       "<p>10000 rows × 3 columns</p>\n",
       "</div>"
      ],
      "text/plain": [
       "               0                1  \\\n",
       "0     2022-01-18     Haidar_Bagir   \n",
       "1     2022-01-18           fe_ubb   \n",
       "2     2022-01-18  KemahasiswaanUI   \n",
       "3     2022-01-18     Kemdikbud_RI   \n",
       "4     2022-01-18     Kemdikbud_RI   \n",
       "...          ...              ...   \n",
       "9995  2021-05-02        LPDBKUMKM   \n",
       "9996  2021-05-02         zenastri   \n",
       "9997  2021-05-02    newPENAWANGAN   \n",
       "9998  2021-05-02     Bakulgodong1   \n",
       "9999  2021-05-02    WijayaMataram   \n",
       "\n",
       "                                                      2  \n",
       "0     Tulisan saya: \"Jangan Overrate! Sekolah Hanyal...  \n",
       "1     Selamat kepada Jurusan Manajemen Universitas B...  \n",
       "2     Teman – teman mahasiswa, yuk ikutan dan cari t...  \n",
       "3     Yuk, cari tahu istilah lainnya dalam bahasa In...  \n",
       "4     #SahabatDikbud, dalam satu hari terkadang kita...  \n",
       "...                                                 ...  \n",
       "9995  Selamat Hari Pendidikan Nasional!\\n\\nSejak pan...  \n",
       "9996  Selamat Hari Pendidikan Nasional. Serentak ber...  \n",
       "9997  Kepolisian Negara Republik Indonesia mengucapk...  \n",
       "9998  @jprstyo__ @GodD4mn1t @WagimanDeep212_ @Mend0a...  \n",
       "9999  merdeka belajar.\\ndari oleh untuk desa. https:...  \n",
       "\n",
       "[10000 rows x 3 columns]"
      ]
     },
     "execution_count": 23,
     "metadata": {},
     "output_type": "execute_result"
    }
   ],
   "source": [
    "dataSave = pd.DataFrame(savedTweet)\n",
    "dataSave[0] = dataSave[0].apply(lambda a: pd.to_datetime(a).date())\n",
    "dataSave.to_csv(\"tweetMined/datasett.csv\", index=False)\n",
    "dataSave.to_excel(\"tweetMined/datasett.xlsx\", index=False)\n",
    "dataSave"
   ]
  },
  {
   "cell_type": "code",
   "execution_count": null,
   "metadata": {},
   "outputs": [],
   "source": []
  }
 ],
 "metadata": {
  "kernelspec": {
   "display_name": "Python 3 (ipykernel)",
   "language": "python",
   "name": "python3"
  },
  "language_info": {
   "codemirror_mode": {
    "name": "ipython",
    "version": 3
   },
   "file_extension": ".py",
   "mimetype": "text/x-python",
   "name": "python",
   "nbconvert_exporter": "python",
   "pygments_lexer": "ipython3",
   "version": "3.9.5"
  }
 },
 "nbformat": 4,
 "nbformat_minor": 4
}
